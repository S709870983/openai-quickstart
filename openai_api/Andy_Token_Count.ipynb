{
 "cells": [
  {
   "cell_type": "code",
   "execution_count": 3,
   "id": "initial_id",
   "metadata": {
    "collapsed": true,
    "ExecuteTime": {
     "end_time": "2023-09-04T08:06:11.633529Z",
     "start_time": "2023-09-04T08:06:11.583649Z"
    }
   },
   "outputs": [],
   "source": [
    "# 尝试使用tiktoken计算字符数。\n",
    "# 虽然 也许用不到，但是需要掌握\n",
    "import tiktoken"
   ]
  },
  {
   "cell_type": "code",
   "execution_count": 4,
   "outputs": [],
   "source": [
    "encoding = tiktoken.encoding_for_model('gpt-3.5-turbo')"
   ],
   "metadata": {
    "collapsed": false,
    "ExecuteTime": {
     "end_time": "2023-09-04T08:10:26.887229Z",
     "start_time": "2023-09-04T08:10:23.431576Z"
    }
   },
   "id": "eeb3b46132495f78"
  },
  {
   "cell_type": "code",
   "execution_count": 9,
   "outputs": [
    {
     "data": {
      "text/plain": "[6151, 11, 35894, 16175, 120, 75146, 20648, 229]"
     },
     "execution_count": 9,
     "metadata": {},
     "output_type": "execute_result"
    }
   ],
   "source": [
    "encoding.encode('hi,空尼基哇')"
   ],
   "metadata": {
    "collapsed": false,
    "ExecuteTime": {
     "end_time": "2023-09-04T08:34:10.090160Z",
     "start_time": "2023-09-04T08:34:10.085257Z"
    }
   },
   "id": "3f0f1b5e6fb0d561"
  },
  {
   "cell_type": "code",
   "execution_count": null,
   "outputs": [],
   "source": [
    "# 这里定义了一个函数，用来将文字内容，转化为token数量。\n",
    "# 原理： token的数量，就是encoding.encode()的长度。"
   ],
   "metadata": {
    "collapsed": false
   },
   "id": "3edcf49656647907"
  },
  {
   "cell_type": "code",
   "execution_count": 7,
   "outputs": [],
   "source": [
    "def num_tokens_from_string(string: str, encding_name: str) -> int:\n",
    "    encoding = tiktoken.encoding_for_model(encding_name)\n",
    "    num_tokens = len(encoding.encode(string))\n",
    "    return num_tokens"
   ],
   "metadata": {
    "collapsed": false,
    "ExecuteTime": {
     "end_time": "2023-09-04T08:33:55.966594Z",
     "start_time": "2023-09-04T08:33:55.928164Z"
    }
   },
   "id": "7be87d5f4fd78cc9"
  },
  {
   "cell_type": "code",
   "execution_count": 10,
   "outputs": [
    {
     "data": {
      "text/plain": "8"
     },
     "execution_count": 10,
     "metadata": {},
     "output_type": "execute_result"
    }
   ],
   "source": [
    "num_tokens_from_string('hi,空尼基哇', 'gpt-3.5-turbo')"
   ],
   "metadata": {
    "collapsed": false,
    "ExecuteTime": {
     "end_time": "2023-09-04T08:34:20.014195Z",
     "start_time": "2023-09-04T08:34:19.973949Z"
    }
   },
   "id": "c34421dc5a69b905"
  },
  {
   "cell_type": "code",
   "execution_count": 11,
   "outputs": [
    {
     "data": {
      "text/plain": "'hi,空尼基哇'"
     },
     "execution_count": 11,
     "metadata": {},
     "output_type": "execute_result"
    }
   ],
   "source": [
    "encoding.decode([6151, 11, 35894, 16175, 120, 75146, 20648, 229])"
   ],
   "metadata": {
    "collapsed": false,
    "ExecuteTime": {
     "end_time": "2023-09-04T10:03:02.097836Z",
     "start_time": "2023-09-04T10:03:02.081404Z"
    }
   },
   "id": "6c3986e4c730f52"
  },
  {
   "cell_type": "code",
   "execution_count": 13,
   "outputs": [
    {
     "data": {
      "text/plain": "[b'hi',\n b',',\n b'\\xe7\\xa9\\xba',\n b'\\xe5\\xb0',\n b'\\xbc',\n b'\\xe5\\x9f\\xba',\n b'\\xe5\\x93',\n b'\\x87']"
     },
     "execution_count": 13,
     "metadata": {},
     "output_type": "execute_result"
    }
   ],
   "source": [
    "[encoding.decode_single_token_bytes(token) for token in [6151, 11, 35894, 16175, 120, 75146, 20648, 229]]"
   ],
   "metadata": {
    "collapsed": false,
    "ExecuteTime": {
     "end_time": "2023-09-04T10:03:33.017212Z",
     "start_time": "2023-09-04T10:03:32.968440Z"
    }
   },
   "id": "b2eca4ca55f0525a"
  }
 ],
 "metadata": {
  "kernelspec": {
   "name": "langchain",
   "language": "python",
   "display_name": "langchain"
  },
  "language_info": {
   "codemirror_mode": {
    "name": "ipython",
    "version": 2
   },
   "file_extension": ".py",
   "mimetype": "text/x-python",
   "name": "python",
   "nbconvert_exporter": "python",
   "pygments_lexer": "ipython2",
   "version": "2.7.6"
  }
 },
 "nbformat": 4,
 "nbformat_minor": 5
}
